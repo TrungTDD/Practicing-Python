{
 "cells": [
  {
   "cell_type": "markdown",
   "metadata": {},
   "source": [
    "# Practicing coding python\n",
    "\n",
    "Below is solution of Python practicing.\n",
    "\n",
    "The exercises will get from: https://github.com/zhiwehu/Python-programming-exercises/blob/master/100%2B%20Python%20challenging%20programming%20exercises.txt?fbclid=IwAR3g5CTikEMs3-y4lw2GYDPhHAOEiAkxe6d-qGZLrLjMUQhueM5Z8sT1bLw\n"
   ]
  },
  {
   "cell_type": "markdown",
   "metadata": {},
   "source": [
    "1.Question:\n",
    "\n",
    "Write a program which will find all such numbers which are divisible by 7 but are not a multiple of 5,\n",
    "between 2000 and 3200 (both included).\n",
    "The numbers obtained should be printed in a comma-separated sequence on a single line.\n"
   ]
  },
  {
   "cell_type": "code",
   "execution_count": 4,
   "metadata": {},
   "outputs": [
    {
     "name": "stdout",
     "output_type": "stream",
     "text": [
      "2002, 2009, 2016, 2023, 2037, 2044, 2051, 2058, 2072, 2079, 2086, 2093, 2107, 2114, 2121, 2128, 2142, 2149, 2156, 2163, 2177, 2184, 2191, 2198, 2212, 2219, 2226, 2233, 2247, 2254, 2261, 2268, 2282, 2289, 2296, 2303, 2317, 2324, 2331, 2338, 2352, 2359, 2366, 2373, 2387, 2394, 2401, 2408, 2422, 2429, 2436, 2443, 2457, 2464, 2471, 2478, 2492, 2499, 2506, 2513, 2527, 2534, 2541, 2548, 2562, 2569, 2576, 2583, 2597, 2604, 2611, 2618, 2632, 2639, 2646, 2653, 2667, 2674, 2681, 2688, 2702, 2709, 2716, 2723, 2737, 2744, 2751, 2758, 2772, 2779, 2786, 2793, 2807, 2814, 2821, 2828, 2842, 2849, 2856, 2863, 2877, 2884, 2891, 2898, 2912, 2919, 2926, 2933, 2947, 2954, 2961, 2968, 2982, 2989, 2996, 3003, 3017, 3024, 3031, 3038, 3052, 3059, 3066, 3073, 3087, 3094, 3101, 3108, 3122, 3129, 3136, 3143, 3157, 3164, 3171, 3178, 3192, 3199\n"
     ]
    }
   ],
   "source": [
    "def check_condition(number):\n",
    "    condition = (number % 7 ==0) and (number % 5 != 0)\n",
    "    if condition:\n",
    "        return True\n",
    "    return False\n",
    "\n",
    "numbers_suitable_condition = [str(n) for n in range(2000,3201) if check_condition(n)]\n",
    "seperator = ', '\n",
    "print(seperator.join(numbers_suitable_condition))"
   ]
  },
  {
   "cell_type": "markdown",
   "metadata": {},
   "source": [
    "2.Question\n",
    "\n",
    "Write a program which can compute the factorial of a given numbers.\n",
    "The results should be printed in a comma-separated sequence on a single line.\n",
    "Suppose the following input is supplied to the program:"
   ]
  },
  {
   "cell_type": "code",
   "execution_count": 6,
   "metadata": {},
   "outputs": [
    {
     "name": "stdout",
     "output_type": "stream",
     "text": [
      "40320\n"
     ]
    }
   ],
   "source": [
    "def factorial(number):\n",
    "    result = 1\n",
    "    for i in range(1, number+1):\n",
    "        result = result * i\n",
    "    return result\n",
    "print(factorial(8))"
   ]
  },
  {
   "cell_type": "markdown",
   "metadata": {},
   "source": [
    "3. Question\n",
    "\n",
    "With a given integral number n, write a program to generate a dictionary that contains (i, i*i) such that is an integral number between 1 and n (both included). and then the program should print the dictionary.\n",
    "Suppose the following input is supplied to the program:"
   ]
  },
  {
   "cell_type": "code",
   "execution_count": 8,
   "metadata": {},
   "outputs": [
    {
     "name": "stdout",
     "output_type": "stream",
     "text": [
      "{1: 1, 2: 4, 3: 9, 4: 16, 5: 25}\n"
     ]
    }
   ],
   "source": [
    "generated_dict = {}\n",
    "def func(number, generated_dict):\n",
    "    for i in range(1, number+1):\n",
    "        generated_dict[i] = i*i\n",
    "    return generated_dict\n",
    "result = func(5, generated_dict)\n",
    "print(result)"
   ]
  },
  {
   "cell_type": "markdown",
   "metadata": {},
   "source": [
    "4. Question\n",
    "\n",
    "Write a program which accepts a sequence of comma-separated numbers from console and generate a list and a tuple which contains every number.\n",
    "Suppose the following input is supplied to the program:"
   ]
  },
  {
   "cell_type": "code",
   "execution_count": 10,
   "metadata": {},
   "outputs": [
    {
     "name": "stdout",
     "output_type": "stream",
     "text": [
      "['1', '2', '3', '4', '5']\n"
     ]
    }
   ],
   "source": [
    "str_number = \"1,2,3,4,5\"\n",
    "tuple_number = tuple(str_number.split(\",\"))\n",
    "print(list_number)"
   ]
  },
  {
   "cell_type": "markdown",
   "metadata": {},
   "source": [
    "5. Question\n",
    "\n",
    "Define a class which has at least two methods:\n",
    "getString: to get a string from console input\n",
    "printString: to print the string in upper case.\n",
    "Also please include simple test function to test the class methods."
   ]
  },
  {
   "cell_type": "code",
   "execution_count": 16,
   "metadata": {},
   "outputs": [
    {
     "name": "stdout",
     "output_type": "stream",
     "text": [
      "Enter a string: this is a test string\n",
      "THIS IS A TEST STRING\n"
     ]
    }
   ],
   "source": [
    "class Klazz:\n",
    "    console_str = None\n",
    "    \n",
    "    def get_string(self):\n",
    "        self.console_str = input(\"Enter a string: \")\n",
    "    \n",
    "    def print_string(self):\n",
    "        print(self.console_str.upper())\n",
    "        \n",
    "test = Klazz()\n",
    "test.get_string()\n",
    "test.print_string()"
   ]
  },
  {
   "cell_type": "markdown",
   "metadata": {},
   "source": [
    "6. Question\n",
    "\n",
    "Write a program that calculates and prints the value according to the given formula:\n",
    "Q = Square root of [(2 * C * D)/H]\n",
    "Following are the fixed values of C and H:\n",
    "C is 50. H is 30.\n",
    "D is the variable whose values should be input to your program in a comma-separated sequence."
   ]
  },
  {
   "cell_type": "code",
   "execution_count": 21,
   "metadata": {},
   "outputs": [
    {
     "name": "stdout",
     "output_type": "stream",
     "text": [
      "Enter string number seperated by comma: 1,2,3,4\n",
      "1.8257418583505538, 2.581988897471611, 3.1622776601683795, 3.6514837167011076\n"
     ]
    }
   ],
   "source": [
    "import math\n",
    "C = 50 \n",
    "H = 30\n",
    "D = input(\"Enter string number seperated by comma: \")\n",
    "numbers = tuple(D.split(\",\"))\n",
    "\n",
    "def calculator(n):\n",
    "    return math.sqrt((2 * C * n) / H)\n",
    "\n",
    "result = []\n",
    "for n in numbers:\n",
    "    result.append(str(calculator(int(n))))\n",
    "\n",
    "print(', '.join(result))"
   ]
  },
  {
   "cell_type": "markdown",
   "metadata": {},
   "source": [
    "7. Question\n",
    "\n",
    "Write a program which takes 2 digits, X,Y as input and generates a 2-dimensional array. The element value in the i-th row and j-th column of the array should be i*j.\n",
    "Note: i=0,1.., X-1; j=0,1,¡­Y-1."
   ]
  },
  {
   "cell_type": "code",
   "execution_count": 3,
   "metadata": {},
   "outputs": [
    {
     "name": "stdout",
     "output_type": "stream",
     "text": [
      "Enter digit X: 5\n",
      "Enter digit Y: 5\n",
      "[[0, 0, 0, 0, 0], [0, 1, 2, 3, 4], [0, 2, 4, 6, 8], [0, 3, 6, 9, 12], [0, 4, 8, 12, 16]]\n"
     ]
    }
   ],
   "source": [
    "X = input(\"Enter digit X: \")\n",
    "Y = input(\"Enter digit Y: \")\n",
    "arr2D = []\n",
    "for i in range(0, int(X)):\n",
    "    arr = []\n",
    "    for j in range(0, int(Y)):\n",
    "        arr.append(i*j)\n",
    "    arr2D.append(arr)\n",
    "    \n",
    "print(arr2D)"
   ]
  },
  {
   "cell_type": "markdown",
   "metadata": {},
   "source": [
    "8. Question\n",
    "\n",
    "Write a program that accepts a comma separated sequence of words as input and prints the words in a comma-separated sequence after sorting them alphabetically.\n",
    "Suppose the following input is supplied to the program:\n",
    "without,hello,bag,world\n",
    "Then, the output should be:\n",
    "bag,hello,without,world"
   ]
  },
  {
   "cell_type": "code",
   "execution_count": 5,
   "metadata": {},
   "outputs": [
    {
     "name": "stdout",
     "output_type": "stream",
     "text": [
      "Enter a string input: without,hello,bag,world\n",
      "bag,hello,without,world\n"
     ]
    }
   ],
   "source": [
    "str_input = input(\"Enter a string input: \")\n",
    "str_arr = str_input.split(',')\n",
    "sorted_arr = sorted(str_arr)\n",
    "print(','.join(sorted_arr))"
   ]
  },
  {
   "cell_type": "markdown",
   "metadata": {},
   "source": [
    "9. Question\n",
    "\n",
    "Write a program that accepts sequence of lines as input and prints the lines after making all characters in the sentence capitalized.\n",
    "Suppose the following input is supplied to the program:\n",
    "Hello world\n",
    "Practice makes perfect\n",
    "Then, the output should be:\n",
    "HELLO WORLD\n",
    "PRACTICE MAKES PERFECT"
   ]
  },
  {
   "cell_type": "code",
   "execution_count": 11,
   "metadata": {},
   "outputs": [
    {
     "name": "stdout",
     "output_type": "stream",
     "text": [
      "Enter string: hello world\n",
      "Enter string: practice makes perfect\n",
      "Enter string: \n",
      "HELLO WORLD PRACTICE MAKES PERFECT\n"
     ]
    }
   ],
   "source": [
    "lines = []\n",
    "\n",
    "while True:\n",
    "    s = input(\"Enter string: \")\n",
    "    if s:\n",
    "        lines.append(s.upper())\n",
    "    else:\n",
    "        break\n",
    "print(*lines)"
   ]
  },
  {
   "cell_type": "markdown",
   "metadata": {},
   "source": [
    "10 . Question\n",
    "\n",
    "Write a program that accepts a sequence of whitespace separated words as input and prints the words after removing all duplicate words and sorting them alphanumerically.\n",
    "Suppose the following input is supplied to the program:\n",
    "hello world and practice makes perfect and hello world again\n",
    "Then, the output should be:\n",
    "again and hello makes perfect practice world"
   ]
  },
  {
   "cell_type": "code",
   "execution_count": 14,
   "metadata": {},
   "outputs": [
    {
     "name": "stdout",
     "output_type": "stream",
     "text": [
      "Enter input string: hello world and practice makes perfect and hello world again\n",
      "again and hello makes perfect practice world\n"
     ]
    }
   ],
   "source": [
    "input_str = input(\"Enter input string: \")\n",
    "\n",
    "arr_input = input_str.split(' ')\n",
    "str_set = set(arr_input)\n",
    "print(*sorted(str_set))"
   ]
  },
  {
   "cell_type": "markdown",
   "metadata": {},
   "source": [
    "11. Question\n",
    "\n",
    "Write a program which accepts a sequence of comma separated 4 digit binary numbers as its input and then check whether they are divisible by 5 or not. The numbers that are divisible by 5 are to be printed in a comma separated sequence."
   ]
  },
  {
   "cell_type": "code",
   "execution_count": 22,
   "metadata": {},
   "outputs": [
    {
     "name": "stdout",
     "output_type": "stream",
     "text": [
      "Enter binary string: 0100,0011,1010,1001\n",
      "1010\n"
     ]
    }
   ],
   "source": [
    "input_binaries = input(\"Enter binary string: \")\n",
    "\n",
    "binary_arr = input_binaries.split(\",\")\n",
    "binary_divisible_by_5 = []\n",
    "for binary in binary_arr:\n",
    "    decimal = 0\n",
    "    len_binary = len(binary)\n",
    "    for b in binary:\n",
    "\n",
    "        if b == '1':\n",
    "            decimal += pow(2,len_binary)\n",
    "        len_binary -= 1\n",
    "    if decimal % 5 == 0:\n",
    "        binary_divisible_by_5.append(binary)\n",
    "        \n",
    "print(*binary_divisible_by_5)    "
   ]
  },
  {
   "cell_type": "markdown",
   "metadata": {},
   "source": [
    "12. Question\n",
    "\n",
    "Write a program, which will find all such numbers between 1000 and 3000 (both included) such that each digit of the number is an even number.\n",
    "The numbers obtained should be printed in a comma-separated sequence on a single line."
   ]
  },
  {
   "cell_type": "code",
   "execution_count": 35,
   "metadata": {},
   "outputs": [
    {
     "name": "stdout",
     "output_type": "stream",
     "text": [
      "1111 1113 1115 1117 1119 1131 1133 1135 1137 1139 1151 1153 1155 1157 1159 1171 1173 1175 1177 1179 1191 1193 1195 1197 1199 1311 1313 1315 1317 1319 1331 1333 1335 1337 1339 1351 1353 1355 1357 1359 1371 1373 1375 1377 1379 1391 1393 1395 1397 1399 1511 1513 1515 1517 1519 1531 1533 1535 1537 1539 1551 1553 1555 1557 1559 1571 1573 1575 1577 1579 1591 1593 1595 1597 1599 1711 1713 1715 1717 1719 1731 1733 1735 1737 1739 1751 1753 1755 1757 1759 1771 1773 1775 1777 1779 1791 1793 1795 1797 1799 1911 1913 1915 1917 1919 1931 1933 1935 1937 1939 1951 1953 1955 1957 1959 1971 1973 1975 1977 1979 1991 1993 1995 1997 1999\n"
     ]
    }
   ],
   "source": [
    "arr_suitable_condition = []\n",
    "\n",
    "def is_each_digit_even(number):\n",
    "    for digit in number:\n",
    "        if not int(digit) % 2:\n",
    "            return False\n",
    "    return True\n",
    "\n",
    "for number in range(1000,3001):\n",
    "    if is_each_digit_even(str(number)):\n",
    "        arr_suitable_condition.append(number)\n",
    "        \n",
    "print(*arr_suitable_condition)\n",
    "            \n"
   ]
  },
  {
   "cell_type": "markdown",
   "metadata": {},
   "source": [
    "13. Question\n",
    "\n",
    "Write a program that accepts a sentence and calculate the number of letters and digits.\n",
    "Suppose the following input is supplied to the program:"
   ]
  },
  {
   "cell_type": "code",
   "execution_count": 40,
   "metadata": {},
   "outputs": [
    {
     "name": "stdout",
     "output_type": "stream",
     "text": [
      "Input setence:hello world! 123\n",
      "Letters: 10\n",
      "Digits: 3\n"
     ]
    }
   ],
   "source": [
    "input_str = input(\"Input setence: \")\n",
    "\n",
    "import re\n",
    "\n",
    "digit_reg = r'[0-9]'\n",
    "letter_reg = r'[a-zA-Z]'\n",
    "\n",
    "digit_arr = re.findall(digit_reg, input_str)\n",
    "letter_arr = re.findall(letter_reg, input_str)\n",
    "\n",
    "print(f'Letters: {len(letter_arr)}')\n",
    "print(f'Digits: {len(digit_arr)}')"
   ]
  },
  {
   "cell_type": "markdown",
   "metadata": {},
   "source": [
    "14. Question\n",
    "\n",
    "Write a program that accepts a sentence and calculate the number of upper case letters and lower case letters.\n",
    "Suppose the following input is supplied to the program:"
   ]
  },
  {
   "cell_type": "code",
   "execution_count": 42,
   "metadata": {},
   "outputs": [
    {
     "name": "stdout",
     "output_type": "stream",
     "text": [
      "Enter a string:Hello world!\n",
      "Uppers: 1\n",
      "Lowers: 9\n"
     ]
    }
   ],
   "source": [
    "import re\n",
    "\n",
    "upper_re = r'[A-Z]'\n",
    "lower_re = r'[a-z]'\n",
    "\n",
    "input_str = input(\"Enter a string: \")\n",
    "\n",
    "upper_arr = re.findall(upper_re, input_str)\n",
    "lower_arr = re.findall(lower_re, input_str)\n",
    "\n",
    "print(f'Uppers: {len(upper_arr)}')\n",
    "print(f'Lowers: {len(lower_arr)}')"
   ]
  },
  {
   "cell_type": "markdown",
   "metadata": {},
   "source": [
    "15. Question\n",
    "\n",
    "Write a program that computes the value of a+aa+aaa+aaaa with a given digit as the value of a.\n",
    "Suppose the following input is supplied to the program:"
   ]
  },
  {
   "cell_type": "code",
   "execution_count": 44,
   "metadata": {},
   "outputs": [
    {
     "name": "stdout",
     "output_type": "stream",
     "text": [
      "Enter input number: 9\n",
      "11106\n"
     ]
    }
   ],
   "source": [
    "from functools import reduce\n",
    "\n",
    "pattern = \"a+aa+aaa+aaaa\"\n",
    "input_number = input(\"Enter input number: \")\n",
    "\n",
    "replaced_number = pattern.replace(\"a\", input_number)\n",
    "number_arr = replaced_number.split(\"+\")\n",
    "\n",
    "result = reduce(lambda a,b: int(a) + int(b), number_arr, 0)\n",
    "print(result)"
   ]
  },
  {
   "cell_type": "markdown",
   "metadata": {},
   "source": [
    "16. Question \n",
    "\n",
    "Use a list comprehension to square each odd number in a list. The list is input by a sequence of comma-separated numbers.\n",
    "Suppose the following input is supplied to the program:"
   ]
  },
  {
   "cell_type": "code",
   "execution_count": null,
   "metadata": {},
   "outputs": [],
   "source": []
  }
 ],
 "metadata": {
  "kernelspec": {
   "display_name": "Python 3",
   "language": "python",
   "name": "python3"
  },
  "language_info": {
   "codemirror_mode": {
    "name": "ipython",
    "version": 3
   },
   "file_extension": ".py",
   "mimetype": "text/x-python",
   "name": "python",
   "nbconvert_exporter": "python",
   "pygments_lexer": "ipython3",
   "version": "3.8.3"
  }
 },
 "nbformat": 4,
 "nbformat_minor": 4
}
